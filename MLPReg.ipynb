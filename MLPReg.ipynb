{
 "cells": [
  {
   "cell_type": "code",
   "execution_count": 1,
   "metadata": {},
   "outputs": [],
   "source": [
    "from sklearn.neural_network import MLPRegressor\n",
    "import numpy as np \n",
    "import pandas as pd\n",
    "import matplotlib.pyplot as plt\n",
    "from sklearn.model_selection import train_test_split\n",
    "from sklearn.model_selection import GridSearchCV\n",
    "from sklearn.preprocessing import StandardScaler\n",
    "from sklearn.metrics import classification_report, confusion_matrix \n",
    "from sklearn import preprocessing\n",
    "from sklearn.preprocessing import StandardScaler"
   ]
  },
  {
   "cell_type": "code",
   "execution_count": 2,
   "metadata": {},
   "outputs": [],
   "source": [
    "# Let's start by naming the features\n",
    "names = ['V', 'ScanRate', 'OR', 'A']"
   ]
  },
  {
   "cell_type": "code",
   "execution_count": 3,
   "metadata": {},
   "outputs": [
    {
     "data": {
      "text/html": [
       "<div>\n",
       "<style scoped>\n",
       "    .dataframe tbody tr th:only-of-type {\n",
       "        vertical-align: middle;\n",
       "    }\n",
       "\n",
       "    .dataframe tbody tr th {\n",
       "        vertical-align: top;\n",
       "    }\n",
       "\n",
       "    .dataframe thead th {\n",
       "        text-align: right;\n",
       "    }\n",
       "</style>\n",
       "<table border=\"1\" class=\"dataframe\">\n",
       "  <thead>\n",
       "    <tr style=\"text-align: right;\">\n",
       "      <th></th>\n",
       "      <th>V</th>\n",
       "      <th>ScanRate</th>\n",
       "      <th>OR</th>\n",
       "      <th>A</th>\n",
       "    </tr>\n",
       "  </thead>\n",
       "  <tbody>\n",
       "    <tr>\n",
       "      <th>0</th>\n",
       "      <td>-0.19941</td>\n",
       "      <td>10</td>\n",
       "      <td>0</td>\n",
       "      <td>-0.95189</td>\n",
       "    </tr>\n",
       "    <tr>\n",
       "      <th>1</th>\n",
       "      <td>-0.20186</td>\n",
       "      <td>10</td>\n",
       "      <td>0</td>\n",
       "      <td>-0.97491</td>\n",
       "    </tr>\n",
       "    <tr>\n",
       "      <th>2</th>\n",
       "      <td>-0.19942</td>\n",
       "      <td>10</td>\n",
       "      <td>0</td>\n",
       "      <td>-0.87831</td>\n",
       "    </tr>\n",
       "    <tr>\n",
       "      <th>3</th>\n",
       "      <td>-0.19698</td>\n",
       "      <td>10</td>\n",
       "      <td>0</td>\n",
       "      <td>-0.81864</td>\n",
       "    </tr>\n",
       "    <tr>\n",
       "      <th>4</th>\n",
       "      <td>-0.19453</td>\n",
       "      <td>10</td>\n",
       "      <td>0</td>\n",
       "      <td>-0.76636</td>\n",
       "    </tr>\n",
       "    <tr>\n",
       "      <th>...</th>\n",
       "      <td>...</td>\n",
       "      <td>...</td>\n",
       "      <td>...</td>\n",
       "      <td>...</td>\n",
       "    </tr>\n",
       "    <tr>\n",
       "      <th>2959</th>\n",
       "      <td>-0.18719</td>\n",
       "      <td>100</td>\n",
       "      <td>0</td>\n",
       "      <td>-6.47000</td>\n",
       "    </tr>\n",
       "    <tr>\n",
       "      <th>2960</th>\n",
       "      <td>-0.18963</td>\n",
       "      <td>100</td>\n",
       "      <td>0</td>\n",
       "      <td>-6.52000</td>\n",
       "    </tr>\n",
       "    <tr>\n",
       "      <th>2961</th>\n",
       "      <td>-0.19207</td>\n",
       "      <td>100</td>\n",
       "      <td>0</td>\n",
       "      <td>-6.54000</td>\n",
       "    </tr>\n",
       "    <tr>\n",
       "      <th>2962</th>\n",
       "      <td>-0.19451</td>\n",
       "      <td>100</td>\n",
       "      <td>0</td>\n",
       "      <td>-6.60000</td>\n",
       "    </tr>\n",
       "    <tr>\n",
       "      <th>2963</th>\n",
       "      <td>-0.19696</td>\n",
       "      <td>100</td>\n",
       "      <td>0</td>\n",
       "      <td>-6.63000</td>\n",
       "    </tr>\n",
       "  </tbody>\n",
       "</table>\n",
       "<p>2964 rows × 4 columns</p>\n",
       "</div>"
      ],
      "text/plain": [
       "            V  ScanRate  OR        A\n",
       "0    -0.19941        10   0 -0.95189\n",
       "1    -0.20186        10   0 -0.97491\n",
       "2    -0.19942        10   0 -0.87831\n",
       "3    -0.19698        10   0 -0.81864\n",
       "4    -0.19453        10   0 -0.76636\n",
       "...       ...       ...  ..      ...\n",
       "2959 -0.18719       100   0 -6.47000\n",
       "2960 -0.18963       100   0 -6.52000\n",
       "2961 -0.19207       100   0 -6.54000\n",
       "2962 -0.19451       100   0 -6.60000\n",
       "2963 -0.19696       100   0 -6.63000\n",
       "\n",
       "[2964 rows x 4 columns]"
      ]
     },
     "execution_count": 3,
     "metadata": {},
     "output_type": "execute_result"
    }
   ],
   "source": [
    "# Reading the dataset through a Pandas function\n",
    "# Let's start by naming the features\n",
    "names = ['V', 'ScanRate', 'OR', 'A']\n",
    "df = pd.read_csv('CVSG0cur.csv', names=names)  \n",
    "df"
   ]
  },
  {
   "cell_type": "code",
   "execution_count": 4,
   "metadata": {},
   "outputs": [],
   "source": [
    "from sklearn.preprocessing import MinMaxScaler\n",
    "scaler = MinMaxScaler()\n",
    "data = scaler.fit_transform(df)\n",
    "df1 = pd.DataFrame(data, columns = ['V','ScanRate','OR','A'])"
   ]
  },
  {
   "cell_type": "code",
   "execution_count": 5,
   "metadata": {},
   "outputs": [
    {
     "name": "stdout",
     "output_type": "stream",
     "text": [
      "[  0.40119 100.        1.       12.23   ]\n"
     ]
    }
   ],
   "source": [
    "print(scaler.data_max_)"
   ]
  },
  {
   "cell_type": "code",
   "execution_count": 6,
   "metadata": {},
   "outputs": [
    {
     "data": {
      "text/html": [
       "<div>\n",
       "<style scoped>\n",
       "    .dataframe tbody tr th:only-of-type {\n",
       "        vertical-align: middle;\n",
       "    }\n",
       "\n",
       "    .dataframe tbody tr th {\n",
       "        vertical-align: top;\n",
       "    }\n",
       "\n",
       "    .dataframe thead th {\n",
       "        text-align: right;\n",
       "    }\n",
       "</style>\n",
       "<table border=\"1\" class=\"dataframe\">\n",
       "  <thead>\n",
       "    <tr style=\"text-align: right;\">\n",
       "      <th></th>\n",
       "      <th>V</th>\n",
       "      <th>ScanRate</th>\n",
       "      <th>OR</th>\n",
       "      <th>A</th>\n",
       "    </tr>\n",
       "  </thead>\n",
       "  <tbody>\n",
       "    <tr>\n",
       "      <th>0</th>\n",
       "      <td>0.004063</td>\n",
       "      <td>0.0</td>\n",
       "      <td>0.0</td>\n",
       "      <td>0.301066</td>\n",
       "    </tr>\n",
       "    <tr>\n",
       "      <th>1</th>\n",
       "      <td>0.000000</td>\n",
       "      <td>0.0</td>\n",
       "      <td>0.0</td>\n",
       "      <td>0.299846</td>\n",
       "    </tr>\n",
       "    <tr>\n",
       "      <th>2</th>\n",
       "      <td>0.004046</td>\n",
       "      <td>0.0</td>\n",
       "      <td>0.0</td>\n",
       "      <td>0.304968</td>\n",
       "    </tr>\n",
       "    <tr>\n",
       "      <th>3</th>\n",
       "      <td>0.008092</td>\n",
       "      <td>0.0</td>\n",
       "      <td>0.0</td>\n",
       "      <td>0.308131</td>\n",
       "    </tr>\n",
       "    <tr>\n",
       "      <th>4</th>\n",
       "      <td>0.012155</td>\n",
       "      <td>0.0</td>\n",
       "      <td>0.0</td>\n",
       "      <td>0.310903</td>\n",
       "    </tr>\n",
       "    <tr>\n",
       "      <th>...</th>\n",
       "      <td>...</td>\n",
       "      <td>...</td>\n",
       "      <td>...</td>\n",
       "      <td>...</td>\n",
       "    </tr>\n",
       "    <tr>\n",
       "      <th>2959</th>\n",
       "      <td>0.024326</td>\n",
       "      <td>1.0</td>\n",
       "      <td>0.0</td>\n",
       "      <td>0.008484</td>\n",
       "    </tr>\n",
       "    <tr>\n",
       "      <th>2960</th>\n",
       "      <td>0.020280</td>\n",
       "      <td>1.0</td>\n",
       "      <td>0.0</td>\n",
       "      <td>0.005832</td>\n",
       "    </tr>\n",
       "    <tr>\n",
       "      <th>2961</th>\n",
       "      <td>0.016234</td>\n",
       "      <td>1.0</td>\n",
       "      <td>0.0</td>\n",
       "      <td>0.004772</td>\n",
       "    </tr>\n",
       "    <tr>\n",
       "      <th>2962</th>\n",
       "      <td>0.012188</td>\n",
       "      <td>1.0</td>\n",
       "      <td>0.0</td>\n",
       "      <td>0.001591</td>\n",
       "    </tr>\n",
       "    <tr>\n",
       "      <th>2963</th>\n",
       "      <td>0.008125</td>\n",
       "      <td>1.0</td>\n",
       "      <td>0.0</td>\n",
       "      <td>0.000000</td>\n",
       "    </tr>\n",
       "  </tbody>\n",
       "</table>\n",
       "<p>2964 rows × 4 columns</p>\n",
       "</div>"
      ],
      "text/plain": [
       "             V  ScanRate   OR         A\n",
       "0     0.004063       0.0  0.0  0.301066\n",
       "1     0.000000       0.0  0.0  0.299846\n",
       "2     0.004046       0.0  0.0  0.304968\n",
       "3     0.008092       0.0  0.0  0.308131\n",
       "4     0.012155       0.0  0.0  0.310903\n",
       "...        ...       ...  ...       ...\n",
       "2959  0.024326       1.0  0.0  0.008484\n",
       "2960  0.020280       1.0  0.0  0.005832\n",
       "2961  0.016234       1.0  0.0  0.004772\n",
       "2962  0.012188       1.0  0.0  0.001591\n",
       "2963  0.008125       1.0  0.0  0.000000\n",
       "\n",
       "[2964 rows x 4 columns]"
      ]
     },
     "execution_count": 6,
     "metadata": {},
     "output_type": "execute_result"
    }
   ],
   "source": [
    "data\n",
    "df1"
   ]
  },
  {
   "cell_type": "code",
   "execution_count": 7,
   "metadata": {},
   "outputs": [],
   "source": [
    "# Takes first 4 columns and assign them to variable \"X\"\n",
    "X = df1.iloc[:, 0:3]\n",
    "# Takes first 5th columns and assign them to variable \"Y\". Object dtype refers to strings.\n",
    "y = df1.iloc[:, 3:4] "
   ]
  },
  {
   "cell_type": "code",
   "execution_count": 8,
   "metadata": {},
   "outputs": [
    {
     "data": {
      "text/html": [
       "<div>\n",
       "<style scoped>\n",
       "    .dataframe tbody tr th:only-of-type {\n",
       "        vertical-align: middle;\n",
       "    }\n",
       "\n",
       "    .dataframe tbody tr th {\n",
       "        vertical-align: top;\n",
       "    }\n",
       "\n",
       "    .dataframe thead th {\n",
       "        text-align: right;\n",
       "    }\n",
       "</style>\n",
       "<table border=\"1\" class=\"dataframe\">\n",
       "  <thead>\n",
       "    <tr style=\"text-align: right;\">\n",
       "      <th></th>\n",
       "      <th>V</th>\n",
       "      <th>ScanRate</th>\n",
       "      <th>OR</th>\n",
       "    </tr>\n",
       "  </thead>\n",
       "  <tbody>\n",
       "    <tr>\n",
       "      <th>0</th>\n",
       "      <td>0.004063</td>\n",
       "      <td>0.0</td>\n",
       "      <td>0.0</td>\n",
       "    </tr>\n",
       "    <tr>\n",
       "      <th>1</th>\n",
       "      <td>0.000000</td>\n",
       "      <td>0.0</td>\n",
       "      <td>0.0</td>\n",
       "    </tr>\n",
       "    <tr>\n",
       "      <th>2</th>\n",
       "      <td>0.004046</td>\n",
       "      <td>0.0</td>\n",
       "      <td>0.0</td>\n",
       "    </tr>\n",
       "    <tr>\n",
       "      <th>3</th>\n",
       "      <td>0.008092</td>\n",
       "      <td>0.0</td>\n",
       "      <td>0.0</td>\n",
       "    </tr>\n",
       "    <tr>\n",
       "      <th>4</th>\n",
       "      <td>0.012155</td>\n",
       "      <td>0.0</td>\n",
       "      <td>0.0</td>\n",
       "    </tr>\n",
       "  </tbody>\n",
       "</table>\n",
       "</div>"
      ],
      "text/plain": [
       "          V  ScanRate   OR\n",
       "0  0.004063       0.0  0.0\n",
       "1  0.000000       0.0  0.0\n",
       "2  0.004046       0.0  0.0\n",
       "3  0.008092       0.0  0.0\n",
       "4  0.012155       0.0  0.0"
      ]
     },
     "execution_count": 8,
     "metadata": {},
     "output_type": "execute_result"
    }
   ],
   "source": [
    "X.head()"
   ]
  },
  {
   "cell_type": "code",
   "execution_count": 9,
   "metadata": {},
   "outputs": [
    {
     "data": {
      "text/html": [
       "<div>\n",
       "<style scoped>\n",
       "    .dataframe tbody tr th:only-of-type {\n",
       "        vertical-align: middle;\n",
       "    }\n",
       "\n",
       "    .dataframe tbody tr th {\n",
       "        vertical-align: top;\n",
       "    }\n",
       "\n",
       "    .dataframe thead th {\n",
       "        text-align: right;\n",
       "    }\n",
       "</style>\n",
       "<table border=\"1\" class=\"dataframe\">\n",
       "  <thead>\n",
       "    <tr style=\"text-align: right;\">\n",
       "      <th></th>\n",
       "      <th>A</th>\n",
       "    </tr>\n",
       "  </thead>\n",
       "  <tbody>\n",
       "    <tr>\n",
       "      <th>0</th>\n",
       "      <td>0.301066</td>\n",
       "    </tr>\n",
       "    <tr>\n",
       "      <th>1</th>\n",
       "      <td>0.299846</td>\n",
       "    </tr>\n",
       "    <tr>\n",
       "      <th>2</th>\n",
       "      <td>0.304968</td>\n",
       "    </tr>\n",
       "    <tr>\n",
       "      <th>3</th>\n",
       "      <td>0.308131</td>\n",
       "    </tr>\n",
       "    <tr>\n",
       "      <th>4</th>\n",
       "      <td>0.310903</td>\n",
       "    </tr>\n",
       "  </tbody>\n",
       "</table>\n",
       "</div>"
      ],
      "text/plain": [
       "          A\n",
       "0  0.301066\n",
       "1  0.299846\n",
       "2  0.304968\n",
       "3  0.308131\n",
       "4  0.310903"
      ]
     },
     "execution_count": 9,
     "metadata": {},
     "output_type": "execute_result"
    }
   ],
   "source": [
    "y.head()"
   ]
  },
  {
   "cell_type": "code",
   "execution_count": 51,
   "metadata": {},
   "outputs": [],
   "source": [
    "X_train, X_test, y_train, y_test = train_test_split(X, y, test_size=0.30, random_state=1)"
   ]
  },
  {
   "cell_type": "code",
   "execution_count": 64,
   "metadata": {},
   "outputs": [
    {
     "data": {
      "text/plain": [
       "MLPRegressor(alpha=0.05, hidden_layer_sizes=(150, 50, 100), max_iter=400,\n",
       "             random_state=42)"
      ]
     },
     "execution_count": 64,
     "metadata": {},
     "output_type": "execute_result"
    }
   ],
   "source": [
    "mlpregressor = MLPRegressor(activation= 'relu', alpha= 0.05, hidden_layer_sizes= (150,50,100), learning_rate= 'constant', solver= 'adam', random_state=42, max_iter=400)\n",
    "mlpregressor.fit(X_train, y_train.values.ravel())\n",
    "mlpregressor"
   ]
  },
  {
   "cell_type": "code",
   "execution_count": 65,
   "metadata": {},
   "outputs": [
    {
     "data": {
      "text/plain": [
       "array([0.48335235, 0.30027316, 0.28162842, 0.32754633, 0.36490448,\n",
       "       0.40801277, 0.62056351, 0.29463947, 0.3713351 , 0.33948665,\n",
       "       0.54386586, 0.52075824, 0.35939682, 0.36949672, 0.26847716,\n",
       "       0.32165298, 0.25538051, 0.37072231, 0.33681203, 0.36041282,\n",
       "       0.22555999, 0.33948665, 0.15368213, 0.32036835, 0.37401316,\n",
       "       0.34778042, 0.54851723, 0.32142876, 0.42294472, 0.49786246,\n",
       "       0.28707432, 0.35165143, 0.39418249, 0.6215415 , 0.59654808,\n",
       "       0.34360508, 0.5696896 , 0.39236508, 0.43619843, 0.41203054,\n",
       "       0.61282946, 0.32644049, 0.39208309, 0.40156758, 0.29162864,\n",
       "       0.34459653, 0.53462673, 0.72020127, 0.2062788 , 0.47772446,\n",
       "       0.2498605 , 0.48849735, 0.45249478, 0.24331647, 0.36992664,\n",
       "       0.42632018, 0.330153  , 0.43441276, 0.40418986, 0.3511267 ,\n",
       "       0.30015145, 0.35760682, 0.74002437, 0.3441008 , 0.34962191,\n",
       "       0.7594878 , 0.63656475, 0.48861556, 0.37343236, 0.35727641,\n",
       "       0.34098278, 0.29263774, 0.39542554, 0.37624121, 0.28972901,\n",
       "       0.4068247 , 0.34710974, 0.50850644, 0.29162864, 0.34202722,\n",
       "       0.29808402, 0.47940738, 0.71227853, 0.37172368, 0.42168924,\n",
       "       0.33832535, 0.36180092, 0.37902285, 0.34956388, 0.49500472,\n",
       "       0.33416258, 0.40846982, 0.28697399, 0.54958128, 0.41737209,\n",
       "       0.28162842, 0.25818615, 0.31241113, 0.54672357, 0.316411  ,\n",
       "       0.40414589, 0.19900958, 0.51963338, 0.30474905, 0.42226198,\n",
       "       0.46318479, 0.32504777, 0.32273102, 0.21354059, 0.4404831 ,\n",
       "       0.25827316, 0.35764361, 0.38634446, 0.38939069, 0.30769498,\n",
       "       0.44304436, 0.39784915, 0.53756788, 0.34289517, 0.40293329,\n",
       "       0.27372333, 0.54099645, 0.3841352 , 0.52658117, 0.37793896,\n",
       "       0.5226358 , 0.29644091, 0.32121754, 0.23578624, 0.37047043,\n",
       "       0.38118246, 0.38546609, 0.37440158, 0.15452539, 0.33524487,\n",
       "       0.2795745 , 0.29447809, 0.34609255, 0.36818493, 0.34011626,\n",
       "       0.42114797, 0.36195776, 0.27789526, 0.3019545 , 0.62456335,\n",
       "       0.7162399 , 0.24425079, 0.39236508, 0.52850164, 0.30947359,\n",
       "       0.35012581, 0.53528104, 0.33528895, 0.30119283, 0.4472586 ,\n",
       "       0.39967426, 0.34599006, 0.36599721, 0.57961835, 0.55082676,\n",
       "       0.41333047, 0.7479041 , 0.34782391, 0.43117152, 0.25453207,\n",
       "       0.3472813 , 0.42734475, 0.39657145, 0.33172022, 0.4006276 ,\n",
       "       0.34127679, 0.22263107, 0.39470046, 0.32315386, 0.24932525,\n",
       "       0.41616674, 0.39821648, 0.3792934 , 0.3786869 , 0.60454776,\n",
       "       0.42226198, 0.42599427, 0.4551007 , 0.37268059, 0.34064788,\n",
       "       0.49447379, 0.35992023, 0.30019004, 0.39127809, 0.36750554,\n",
       "       0.39084845, 0.36645143, 0.42165436, 0.59254824, 0.31122499,\n",
       "       0.34277877, 0.5696896 , 0.47190144, 0.34810815, 0.31539305,\n",
       "       0.3243311 , 0.56853282, 0.33619452, 0.40029018, 0.33416258,\n",
       "       0.23113968, 0.364706  , 0.46951178, 0.23206899, 0.39297088,\n",
       "       0.39013533, 0.49447379, 0.35782659, 0.39660819, 0.58453217,\n",
       "       0.28235168, 0.46791967, 0.37863717, 0.36752946, 0.33312362,\n",
       "       0.19176475, 0.60054792, 0.39241544, 0.47499986, 0.35224399,\n",
       "       0.35715749, 0.56678558, 0.30420025, 0.42528762, 0.74002437,\n",
       "       0.66056644, 0.38385516, 0.29921076, 0.2851442 , 0.30211249,\n",
       "       0.29371501, 0.39539658, 0.51222568, 0.29471442, 0.38324893,\n",
       "       0.2629266 , 0.38850879, 0.31329138, 0.49582254, 0.54451739,\n",
       "       0.2927896 , 0.39275289, 0.14947007, 0.36078384, 0.3719479 ,\n",
       "       0.49261502, 0.52831166, 0.37297693, 0.25818615, 0.34836653,\n",
       "       0.30363346, 0.34805111, 0.40029018, 0.24229524, 0.21172514,\n",
       "       0.27171341, 0.34558798, 0.34254838, 0.69245543, 0.6805229 ,\n",
       "       0.42709273, 0.30203637, 0.30863462, 0.35198011, 0.49560172,\n",
       "       0.30481235, 0.2395073 , 0.29190357, 0.32565022, 0.4301995 ,\n",
       "       0.38959791, 0.39976448, 0.41111271, 0.38930111, 0.40751243,\n",
       "       0.22841258, 0.1494667 , 0.38216963, 0.49213525, 0.3911315 ,\n",
       "       0.34064296, 0.3931776 , 0.36538682, 0.30992981, 0.29556394,\n",
       "       0.30395182, 0.39355795, 0.36610006, 0.4408972 , 0.3811817 ,\n",
       "       0.42167393, 0.31035617, 0.33892339, 0.31264152, 0.35499427,\n",
       "       0.40801277, 0.4301995 , 0.27128586, 0.32165298, 0.15283561,\n",
       "       0.30076135, 0.41080304, 0.35780698, 0.55514564, 0.33015998,\n",
       "       0.32960353, 0.31904923, 0.2832837 , 0.35196789, 0.37040275,\n",
       "       0.39314052, 0.16016784, 0.32565022, 0.39782663, 0.33645354,\n",
       "       0.75176533, 0.37325694, 0.33312362, 0.39314052, 0.36253385,\n",
       "       0.47610884, 0.15824455, 0.59654808, 0.37744027, 0.49254505,\n",
       "       0.15114961, 0.31315401, 0.58706584, 0.25920645, 0.3562627 ,\n",
       "       0.3613696 , 0.41480939, 0.27555453, 0.27651481, 0.36430079,\n",
       "       0.37747143, 0.37544552, 0.59254824, 0.29937813, 0.1592062 ,\n",
       "       0.26847716, 0.33143536, 0.34733969, 0.37010951, 0.15283561,\n",
       "       0.33889815, 0.41080304, 0.34599006, 0.24602071, 0.35048915,\n",
       "       0.57841355, 0.35161486, 0.30855392, 0.38054663, 0.33952143,\n",
       "       0.37609364, 0.4287066 , 0.63256367, 0.32050977, 0.33590389,\n",
       "       0.33270522, 0.31407301, 0.29657791, 0.42792364, 0.34251459,\n",
       "       0.41237688, 0.31617095, 0.34510525, 0.39905891, 0.28327614,\n",
       "       0.29392889, 0.29826653, 0.3877316 , 0.7594878 , 0.36435587,\n",
       "       0.32920261, 0.27555453, 0.41785366, 0.34113271, 0.28882671,\n",
       "       0.56853282, 0.26667966, 0.37040418, 0.76307168, 0.18995052,\n",
       "       0.37562775, 0.64456692, 0.34823545, 0.14865562, 0.41746032,\n",
       "       0.36324709, 0.39418249, 0.41932711, 0.6964168 , 0.33889815,\n",
       "       0.36738655, 0.32377103, 0.35559817, 0.15368213, 0.33842398,\n",
       "       0.35392223, 0.27453096, 0.3911315 , 0.3053193 , 0.32792732,\n",
       "       0.3835668 , 0.36488686, 0.33590389, 0.70433955, 0.37844649,\n",
       "       0.34520736, 0.2062788 , 0.28587711, 0.39529804, 0.28534627,\n",
       "       0.6215415 , 0.4044437 , 0.35833407, 0.37544552, 0.35487895,\n",
       "       0.30851399, 0.3558638 , 0.17526065, 0.3852387 , 0.36488686,\n",
       "       0.20264047, 0.39940004, 0.35475346, 0.40187057, 0.22648931,\n",
       "       0.21899436, 0.26293858, 0.4188676 , 0.16600794, 0.37329321,\n",
       "       0.34420524, 0.38046812, 0.35695315, 0.26472484, 0.27772558,\n",
       "       0.41089033, 0.35196789, 0.41486514, 0.34202722, 0.29067563,\n",
       "       0.39989465, 0.33154798, 0.35556941, 0.39115347, 0.3613696 ,\n",
       "       0.39338918, 0.55221802, 0.25725093, 0.35946635, 0.36254352,\n",
       "       0.35056805, 0.30733943, 0.33015998, 0.18813686, 0.34420987,\n",
       "       0.35418991, 0.3945989 , 0.29129066, 0.53239218, 0.33889047,\n",
       "       0.25640453, 0.46026979, 0.3908555 , 0.3877316 , 0.52075824,\n",
       "       0.39848669, 0.22834793, 0.38579271, 0.33997056, 0.47610884,\n",
       "       0.27032609, 0.38358345, 0.35724797, 0.38253069, 0.38657366,\n",
       "       0.29657253, 0.51545341, 0.4974029 , 0.35651065, 0.40488362,\n",
       "       0.31959077, 0.34558798, 0.41877238, 0.42792364, 0.34861205,\n",
       "       0.39022119, 0.33172022, 0.29543179, 0.2887753 , 0.3488006 ,\n",
       "       0.34261263, 0.24144785, 0.41221346, 0.35838528, 0.33682499,\n",
       "       0.37559028, 0.28462453, 0.31329138, 0.46805672, 0.34189615,\n",
       "       0.34938298, 0.35392328, 0.34156027, 0.3011145 , 0.34289517,\n",
       "       0.35715749, 0.26938924, 0.36575287, 0.27696095, 0.36312927,\n",
       "       0.41467127, 0.44863213, 0.4042939 , 0.49154468, 0.32999787,\n",
       "       0.53528104, 0.34945486, 0.15199261, 0.29585154, 0.3243311 ,\n",
       "       0.30487526, 0.40677808, 0.42592844, 0.35651065, 0.35924479,\n",
       "       0.35615682, 0.4710738 , 0.41467127, 0.27402394, 0.44541754,\n",
       "       0.36490448, 0.33688565, 0.41752248, 0.57334207, 0.36358625,\n",
       "       0.38592329, 0.23485693, 0.2405097 , 0.42453116, 0.23764868,\n",
       "       0.35838174, 0.27882957, 0.4068933 , 0.34487248, 0.3535011 ,\n",
       "       0.46511558, 0.2899974 , 0.44863213, 0.26010076, 0.33522657,\n",
       "       0.4798206 , 0.34175194, 0.37611262, 0.3792934 , 0.42431125,\n",
       "       0.31617095, 0.39660819, 0.31382068, 0.42431125, 0.43151269,\n",
       "       0.32301198, 0.39357668, 0.48949162, 0.30232259, 0.44448153,\n",
       "       0.36078384, 0.22927724, 0.45734064, 0.39428303, 0.31252549,\n",
       "       0.34254838, 0.30109391, 0.15728291, 0.77329843, 0.20446336,\n",
       "       0.39764689, 0.32502685, 0.26761398, 0.4032524 , 0.36901357,\n",
       "       0.27747509, 0.35424403, 0.3609692 , 0.37559028, 0.32920261,\n",
       "       0.30296342, 0.33241564, 0.3535011 , 0.28597086, 0.25547021,\n",
       "       0.58270057, 0.26192467, 0.53796852, 0.45626586, 0.52831166,\n",
       "       0.42875259, 0.39402546, 0.34399859, 0.29092686, 0.38072219,\n",
       "       0.43236135, 0.57012747, 0.26106582, 0.40714997, 0.35273858,\n",
       "       0.68451092, 0.38991857, 0.30666506, 0.32234776, 0.46899589,\n",
       "       0.4289294 , 0.50160656, 0.45184672, 0.29190357, 0.31683001,\n",
       "       0.30392514, 0.55807325, 0.40926595, 0.23857799, 0.3441008 ,\n",
       "       0.43039397, 0.38599682, 0.27344926, 0.42995078, 0.33154798,\n",
       "       0.46936001, 0.37064059, 0.42307565, 0.39211399, 0.4092923 ,\n",
       "       0.39466175, 0.30851399, 0.38459864, 0.33772732, 0.15030692,\n",
       "       0.4330746 , 0.44968898, 0.37562775, 0.33454846, 0.34196395,\n",
       "       0.32036835, 0.36312927, 0.3019545 , 0.32754633, 0.38868432,\n",
       "       0.37793896, 0.35224399, 0.28327614, 0.3048676 , 0.27792037,\n",
       "       0.41354201, 0.50460898, 0.33454926, 0.4024385 , 0.15632127,\n",
       "       0.50620224, 0.30085337, 0.28348734, 0.34455868, 0.4149241 ,\n",
       "       0.4551007 , 0.54099645, 0.2795745 , 0.33979941, 0.26477553,\n",
       "       0.26192467, 0.34189615, 0.34196817, 0.35266189, 0.37686282,\n",
       "       0.45249478, 0.36612426, 0.27509232, 0.38109032, 0.40677808,\n",
       "       0.30019004, 0.37613871, 0.34602485, 0.26379273, 0.30211249,\n",
       "       0.51785273, 0.36949672, 0.37800218, 0.33078391, 0.29808402,\n",
       "       0.43982   , 0.3468887 , 0.48335235, 0.27680112, 0.42168924,\n",
       "       0.3610955 , 0.4120386 , 0.44942138, 0.38111936, 0.53756788,\n",
       "       0.43463651, 0.4092923 , 0.28610926, 0.34873042, 0.29585154,\n",
       "       0.34411191, 0.28972901, 0.37744027, 0.40812667, 0.40321206,\n",
       "       0.35273858, 0.39199801, 0.22462868, 0.30863462, 0.37268059,\n",
       "       0.25079481, 0.27509232, 0.56691288, 0.36927778, 0.3883554 ,\n",
       "       0.57253265, 0.29644091, 0.39357668, 0.25631572, 0.28420061,\n",
       "       0.41380012, 0.27217501, 0.38418959, 0.34011626, 0.27669879,\n",
       "       0.40293329, 0.37808041, 0.37899628, 0.36763632, 0.44854117,\n",
       "       0.45794037, 0.62856319, 0.4015337 , 0.40583012, 0.39175927,\n",
       "       0.34767259, 0.23671936, 0.23671936, 0.736063  , 0.4629012 ,\n",
       "       0.41221346, 0.47648537, 0.3506881 , 0.3256986 , 0.3335055 ,\n",
       "       0.39479077, 0.30721043, 0.41785366, 0.30763426, 0.24611942,\n",
       "       0.27363397, 0.32039921, 0.29543179, 0.27977091, 0.39338918,\n",
       "       0.35457012, 0.3496596 , 0.28720901, 0.37782471, 0.374986  ,\n",
       "       0.27041692, 0.55725594, 0.38786302, 0.3249567 , 0.28893022,\n",
       "       0.4404831 , 0.33733254, 0.35679325, 0.36735912, 0.37393695,\n",
       "       0.33454846, 0.42854461, 0.33937621, 0.330153  , 0.20990969,\n",
       "       0.33870859, 0.17526065, 0.3506881 , 0.40812667, 0.35521696,\n",
       "       0.32050977, 0.48641975, 0.36326473, 0.3329024 , 0.38674758,\n",
       "       0.30027316, 0.375486  , 0.37844258, 0.35555712, 0.36674169,\n",
       "       0.5604837 , 0.28604953, 0.51494723, 0.31775277, 0.55251707,\n",
       "       0.45300561, 0.35887341, 0.29478173, 0.58453217, 0.41888846,\n",
       "       0.35135098, 0.36371503, 0.32326676, 0.32197033, 0.34599697,\n",
       "       0.33880191, 0.49500472, 0.32014594, 0.26099178, 0.26658907,\n",
       "       0.49213525, 0.32169287, 0.35280493, 0.26752119, 0.23392762,\n",
       "       0.38171231, 0.33772732, 0.34656321, 0.24136593, 0.29921076,\n",
       "       0.4024385 , 0.31052621, 0.41614484, 0.49860414, 0.34778042,\n",
       "       0.35217771, 0.47721307, 0.36296295, 0.42156153, 0.46026979,\n",
       "       0.34703798, 0.3403265 , 0.28996949, 0.57550953, 0.42156153,\n",
       "       0.2928458 , 0.48028271, 0.51650351, 0.35902657, 0.65258549,\n",
       "       0.36182061, 0.57334207, 0.36968266, 0.43682454, 0.36896114,\n",
       "       0.33524487, 0.59800033, 0.34046162, 0.33078391, 0.3329024 ,\n",
       "       0.29941417, 0.49261502, 0.29503642, 0.36927778, 0.28975117,\n",
       "       0.38323124, 0.3682688 , 0.35924479, 0.31241113, 0.28534627,\n",
       "       0.34399859, 0.30345386, 0.51785273, 0.22645564, 0.37292777,\n",
       "       0.28731169, 0.30203896, 0.36921462, 0.47414344, 0.25359776,\n",
       "       0.40180158, 0.34150607, 0.61863749, 0.35992023, 0.30867722,\n",
       "       0.56369829, 0.32586904, 0.28142722, 0.37902285, 0.33163679])"
      ]
     },
     "execution_count": 65,
     "metadata": {},
     "output_type": "execute_result"
    }
   ],
   "source": [
    "predictions=mlpregressor.predict(X_test)\n",
    "predictions"
   ]
  },
  {
   "cell_type": "code",
   "execution_count": 66,
   "metadata": {},
   "outputs": [
    {
     "data": {
      "text/plain": [
       "(890,)"
      ]
     },
     "execution_count": 66,
     "metadata": {},
     "output_type": "execute_result"
    }
   ],
   "source": [
    "predictions.shape"
   ]
  },
  {
   "cell_type": "code",
   "execution_count": 67,
   "metadata": {},
   "outputs": [
    {
     "data": {
      "text/plain": [
       "(890, 3)"
      ]
     },
     "execution_count": 67,
     "metadata": {},
     "output_type": "execute_result"
    }
   ],
   "source": [
    "X_test.shape"
   ]
  },
  {
   "cell_type": "code",
   "execution_count": 68,
   "metadata": {},
   "outputs": [],
   "source": [
    "df1 = pd.DataFrame(predictions)\n",
    "df2 = pd.DataFrame(X_test)"
   ]
  },
  {
   "cell_type": "code",
   "execution_count": 69,
   "metadata": {},
   "outputs": [
    {
     "data": {
      "text/html": [
       "<div>\n",
       "<style scoped>\n",
       "    .dataframe tbody tr th:only-of-type {\n",
       "        vertical-align: middle;\n",
       "    }\n",
       "\n",
       "    .dataframe tbody tr th {\n",
       "        vertical-align: top;\n",
       "    }\n",
       "\n",
       "    .dataframe thead th {\n",
       "        text-align: right;\n",
       "    }\n",
       "</style>\n",
       "<table border=\"1\" class=\"dataframe\">\n",
       "  <thead>\n",
       "    <tr style=\"text-align: right;\">\n",
       "      <th></th>\n",
       "      <th>V</th>\n",
       "      <th>ScanRate</th>\n",
       "      <th>OR</th>\n",
       "    </tr>\n",
       "  </thead>\n",
       "  <tbody>\n",
       "    <tr>\n",
       "      <th>1765</th>\n",
       "      <td>0.858287</td>\n",
       "      <td>0.333333</td>\n",
       "      <td>1.0</td>\n",
       "    </tr>\n",
       "    <tr>\n",
       "      <th>525</th>\n",
       "      <td>0.121466</td>\n",
       "      <td>0.111111</td>\n",
       "      <td>0.0</td>\n",
       "    </tr>\n",
       "    <tr>\n",
       "      <th>1456</th>\n",
       "      <td>0.109328</td>\n",
       "      <td>0.222222</td>\n",
       "      <td>0.0</td>\n",
       "    </tr>\n",
       "    <tr>\n",
       "      <th>929</th>\n",
       "      <td>0.242915</td>\n",
       "      <td>0.111111</td>\n",
       "      <td>0.0</td>\n",
       "    </tr>\n",
       "    <tr>\n",
       "      <th>854</th>\n",
       "      <td>0.546555</td>\n",
       "      <td>0.111111</td>\n",
       "      <td>1.0</td>\n",
       "    </tr>\n",
       "  </tbody>\n",
       "</table>\n",
       "</div>"
      ],
      "text/plain": [
       "             V  ScanRate   OR\n",
       "1765  0.858287  0.333333  1.0\n",
       "525   0.121466  0.111111  0.0\n",
       "1456  0.109328  0.222222  0.0\n",
       "929   0.242915  0.111111  0.0\n",
       "854   0.546555  0.111111  1.0"
      ]
     },
     "execution_count": 69,
     "metadata": {},
     "output_type": "execute_result"
    }
   ],
   "source": [
    "df2.head()"
   ]
  },
  {
   "cell_type": "code",
   "execution_count": 70,
   "metadata": {
    "scrolled": true
   },
   "outputs": [
    {
     "data": {
      "image/png": "[encoded data removed]",
      "text/plain": [
       "<Figure size 432x288 with 1 Axes>"
      ]
     },
     "metadata": {
      "needs_background": "light"
     },
     "output_type": "display_data"
    }
   ],
   "source": [
    "plt.scatter(df2['V'],y_test)\n",
    "plt.xlabel('V')\n",
    "plt.ylabel('y_test')\n",
    "plt.title('V test vs y_test')\n",
    "plt.show()"
   ]
  },
  {
   "cell_type": "code",
   "execution_count": 71,
   "metadata": {
    "scrolled": true
   },
   "outputs": [
    {
     "data": {
      "image/png": "[encoded data removed]",
      "text/plain": [
       "<Figure size 432x288 with 1 Axes>"
      ]
     },
     "metadata": {
      "needs_background": "light"
     },
     "output_type": "display_data"
    }
   ],
   "source": [
    "plt.scatter(df2['V'],predictions)\n",
    "plt.xlabel('V test')\n",
    "plt.ylabel('pred')\n",
    "plt.title('V test vs pred')\n",
    "plt.show()"
   ]
  },
  {
   "cell_type": "code",
   "execution_count": 77,
   "metadata": {},
   "outputs": [
    {
     "name": "stdout",
     "output_type": "stream",
     "text": [
      "0.010454813597067016\n"
     ]
    }
   ],
   "source": [
    "from sklearn.metrics import mean_squared_error\n",
    "MSE = mean_squared_error(y_test,predictions)\n",
    "# report error\n",
    "print(MSE)"
   ]
  },
  {
   "cell_type": "code",
   "execution_count": 73,
   "metadata": {},
   "outputs": [
    {
     "name": "stdout",
     "output_type": "stream",
     "text": [
      "0.5131582621489573\n"
     ]
    }
   ],
   "source": [
    "from sklearn.metrics import r2_score\n",
    "r2 = r2_score(y_test, predictions)\n",
    "print(r2)"
   ]
  },
  {
   "cell_type": "code",
   "execution_count": 74,
   "metadata": {},
   "outputs": [
    {
     "name": "stdout",
     "output_type": "stream",
     "text": [
      "0.0859180898996887\n"
     ]
    }
   ],
   "source": [
    "# calculate errors\n",
    "# example of calculate the mean absolute error\n",
    "from sklearn.metrics import mean_absolute_error\n",
    "MAE = mean_absolute_error(y_test, predictions)\n",
    "# report error\n",
    "print(MAE)"
   ]
  },
  {
   "cell_type": "code",
   "execution_count": 75,
   "metadata": {},
   "outputs": [
    {
     "data": {
      "text/plain": [
       "0.5131582621489573"
      ]
     },
     "execution_count": 75,
     "metadata": {},
     "output_type": "execute_result"
    }
   ],
   "source": [
    "score=mlpregressor.score(X_test,y_test)\n",
    "score"
   ]
  },
  {
   "cell_type": "code",
   "execution_count": 76,
   "metadata": {},
   "outputs": [
    {
     "data": {
      "text/plain": [
       "0.10224878286349924"
      ]
     },
     "execution_count": 76,
     "metadata": {},
     "output_type": "execute_result"
    }
   ],
   "source": [
    "rmse = np.sqrt(MSE)\n",
    "rmse"
   ]
  },
  {
   "cell_type": "code",
   "execution_count": 78,
   "metadata": {},
   "outputs": [
    {
     "ename": "TypeError",
     "evalue": "fit() got an unexpected keyword argument 'epoch'",
     "output_type": "error",
     "traceback": [
      "\u001b[1;31m---------------------------------------------------------------------------\u001b[0m",
      "\u001b[1;31mTypeError\u001b[0m                                 Traceback (most recent call last)",
      "\u001b[1;32m<ipython-input-78-84351d979f1a>\u001b[0m in \u001b[0;36m<module>\u001b[1;34m\u001b[0m\n\u001b[1;32m----> 1\u001b[1;33m \u001b[0mhistory\u001b[0m \u001b[1;33m=\u001b[0m \u001b[0mmlpregressor\u001b[0m\u001b[1;33m.\u001b[0m\u001b[0mfit\u001b[0m\u001b[1;33m(\u001b[0m\u001b[0mX_train\u001b[0m\u001b[1;33m,\u001b[0m \u001b[0my_train\u001b[0m\u001b[1;33m,\u001b[0m \u001b[0mepoch\u001b[0m\u001b[1;33m=\u001b[0m\u001b[1;36m34\u001b[0m\u001b[1;33m,\u001b[0m \u001b[0mbatch_size\u001b[0m\u001b[1;33m=\u001b[0m\u001b[1;36m1\u001b[0m\u001b[1;33m,\u001b[0m \u001b[0mvalidation_data\u001b[0m\u001b[1;33m=\u001b[0m\u001b[1;33m(\u001b[0m\u001b[0mX_val\u001b[0m\u001b[1;33m,\u001b[0m \u001b[0my_val\u001b[0m\u001b[1;33m)\u001b[0m\u001b[1;33m)\u001b[0m\u001b[1;33m\u001b[0m\u001b[1;33m\u001b[0m\u001b[0m\n\u001b[0m\u001b[0;32m      2\u001b[0m \u001b[0mloss_train\u001b[0m \u001b[1;33m=\u001b[0m \u001b[0mhistory\u001b[0m\u001b[1;33m.\u001b[0m\u001b[0mhistory\u001b[0m\u001b[1;33m[\u001b[0m\u001b[1;34m'train_loss'\u001b[0m\u001b[1;33m]\u001b[0m\u001b[1;33m\u001b[0m\u001b[1;33m\u001b[0m\u001b[0m\n\u001b[0;32m      3\u001b[0m \u001b[0mloss_val\u001b[0m \u001b[1;33m=\u001b[0m \u001b[0mhistory\u001b[0m\u001b[1;33m.\u001b[0m\u001b[0mhistory\u001b[0m\u001b[1;33m[\u001b[0m\u001b[1;34m'val_loss'\u001b[0m\u001b[1;33m]\u001b[0m\u001b[1;33m\u001b[0m\u001b[1;33m\u001b[0m\u001b[0m\n\u001b[0;32m      4\u001b[0m \u001b[0mepochs\u001b[0m \u001b[1;33m=\u001b[0m \u001b[0mrange\u001b[0m\u001b[1;33m(\u001b[0m\u001b[1;36m1\u001b[0m\u001b[1;33m,\u001b[0m\u001b[1;36m35\u001b[0m\u001b[1;33m)\u001b[0m\u001b[1;33m\u001b[0m\u001b[1;33m\u001b[0m\u001b[0m\n\u001b[0;32m      5\u001b[0m \u001b[0mplt\u001b[0m\u001b[1;33m.\u001b[0m\u001b[0mplot\u001b[0m\u001b[1;33m(\u001b[0m\u001b[0mepochs\u001b[0m\u001b[1;33m,\u001b[0m \u001b[0mloss_train\u001b[0m\u001b[1;33m,\u001b[0m \u001b[1;34m'g'\u001b[0m\u001b[1;33m,\u001b[0m \u001b[0mlabel\u001b[0m\u001b[1;33m=\u001b[0m\u001b[1;34m'Training loss'\u001b[0m\u001b[1;33m)\u001b[0m\u001b[1;33m\u001b[0m\u001b[1;33m\u001b[0m\u001b[0m\n",
      "\u001b[1;31mTypeError\u001b[0m: fit() got an unexpected keyword argument 'epoch'"
     ]
    }
   ],
   "source": [
    "history = mlpregressor.fit(X_train, y_train, epoch=34, batch_size=1, validation_data=(X_val, y_val))\n",
    "loss_train = history.history['train_loss']\n",
    "loss_val = history.history['val_loss']\n",
    "epochs = range(1,35)\n",
    "plt.plot(epochs, loss_train, 'g', label='Training loss')\n",
    "plt.plot(epochs, loss_val, 'b', label='validation loss')\n",
    "plt.title('Training and Validation loss')\n",
    "plt.xlabel('Epochs')\n",
    "plt.ylabel('Loss')\n",
    "plt.legend()\n",
    "plt.show()"
   ]
  },
  {
   "cell_type": "code",
   "execution_count": 18,
   "metadata": {},
   "outputs": [
    {
     "data": {
      "text/plain": [
       "Text(0, 0.5, 'rmse')"
      ]
     },
     "execution_count": 18,
     "metadata": {},
     "output_type": "execute_result"
    },
    {
     "data": {
      "image/png": "[encoded data removed]",
      "text/plain": [
       "<Figure size 432x432 with 1 Axes>"
      ]
     },
     "metadata": {
      "needs_background": "light"
     },
     "output_type": "display_data"
    }
   ],
   "source": [
    "rmse = []\n",
    "list_k = list(range(1,200))\n",
    "for i in list_k:\n",
    "    mlpregressor = MLPRegressor(activation= 'relu', alpha= 0.05, hidden_layer_sizes= (i), learning_rate= 'constant', solver= 'adam', random_state=0, max_iter=400)\n",
    "    mlpregressor.fit(X_train, y_train.values.ravel())\n",
    "    predictions=mlpregressor.predict(X_test)\n",
    "    rmsec = np.sqrt(mean_squared_error(y_test,predictions))\n",
    "    rmse.append(rmsec);\n",
    "plt.figure(figsize=(6,6))\n",
    "plt.plot(list_k, rmse, '-o')\n",
    "plt.title('rmse')\n",
    "plt.xlabel('neuron')\n",
    "plt.ylabel('rmse')"
   ]
  },
  {
   "cell_type": "code",
   "execution_count": 17,
   "metadata": {},
   "outputs": [
    {
     "data": {
      "text/plain": [
       "Text(0, 0.5, 'MSE')"
      ]
     },
     "execution_count": 17,
     "metadata": {},
     "output_type": "execute_result"
    },
    {
     "data": {
      "image/png": "[encoded data removed]",
      "text/plain": [
       "<Figure size 432x432 with 1 Axes>"
      ]
     },
     "metadata": {
      "needs_background": "light"
     },
     "output_type": "display_data"
    }
   ],
   "source": [
    "mse = []\n",
    "list_k = list(range(1,150))\n",
    "for i in list_k:\n",
    "    mlpregressor = MLPRegressor(activation= 'relu', alpha= 0.05, hidden_layer_sizes= (i), learning_rate= 'constant', solver= 'adam', random_state=0, max_iter=400)\n",
    "    mlpregressor.fit(X_train, y_train.values.ravel())\n",
    "    predictions=mlpregressor.predict(X_test)\n",
    "    mse1 = mean_squared_error(y_test,predictions)\n",
    "    mse.append(mse1);\n",
    "    \n",
    "plt.figure(figsize=(6,6))\n",
    "plt.plot(list_k, mse)\n",
    "plt.title('MSE')\n",
    "plt.xlabel('neuron')\n",
    "plt.ylabel('MSE')"
   ]
  },
  {
   "cell_type": "code",
   "execution_count": 14,
   "metadata": {},
   "outputs": [
    {
     "data": {
      "text/plain": [
       "Text(0, 0.5, 'r2')"
      ]
     },
     "execution_count": 14,
     "metadata": {},
     "output_type": "execute_result"
    },
    {
     "data": {
      "image/png": "[encoded data removed]",
      "text/plain": [
       "<Figure size 432x432 with 1 Axes>"
      ]
     },
     "metadata": {
      "needs_background": "light"
     },
     "output_type": "display_data"
    }
   ],
   "source": [
    "r2 = []\n",
    "list_k = list(range(1,150))\n",
    "for i in list_k:\n",
    "    mlpregressor = MLPRegressor(activation= 'relu', alpha= 0.05, hidden_layer_sizes= (i), learning_rate= 'constant', solver= 'adam', random_state=42, max_iter=400)\n",
    "    mlpregressor.fit(X_train, y_train.values.ravel())\n",
    "    predictions=mlpregressor.predict(X_test)\n",
    "    rsq = r2_score(y_test, predictions)\n",
    "    r2.append(rsq);\n",
    "    \n",
    "plt.figure(figsize=(6,6))\n",
    "plt.plot(list_k, r2, '-o')\n",
    "plt.title('r square')\n",
    "plt.xlabel('neuron')\n",
    "plt.ylabel('r2')"
   ]
  },
  {
   "cell_type": "code",
   "execution_count": 17,
   "metadata": {},
   "outputs": [
    {
     "data": {
      "image/png": "[encoded data removed]",
      "text/plain": [
       "<Figure size 432x288 with 1 Axes>"
      ]
     },
     "metadata": {
      "needs_background": "light"
     },
     "output_type": "display_data"
    }
   ],
   "source": [
    "plt.scatter(predictions,y_test)\n",
    "plt.xlabel('predict')\n",
    "plt.ylabel('y_test')\n",
    "plt.title('predict vs y_test')\n",
    "plt.show()"
   ]
  },
  {
   "cell_type": "code",
   "execution_count": 79,
   "metadata": {},
   "outputs": [
    {
     "data": {
      "text/plain": [
       "Text(0.5, 1.0, 'Plot V vs A')"
      ]
     },
     "execution_count": 79,
     "metadata": {},
     "output_type": "execute_result"
    },
    {
     "data": {
      "image/png": "[encoded data removed]",
      "text/plain": [
       "<Figure size 432x288 with 1 Axes>"
      ]
     },
     "metadata": {
      "needs_background": "light"
     },
     "output_type": "display_data"
    }
   ],
   "source": [
    "y_pred = mlpregressor.predict(X_test)\n",
    "plt.scatter(df2['V'],y_test)\n",
    "plt.plot(X_test, y_pred, c='g')\n",
    "plt.xlabel('WEPotential(V)')\n",
    "plt.ylabel('WECurrent(A)')\n",
    "plt.title('Plot V vs A')"
   ]
  },
  {
   "cell_type": "code",
   "execution_count": 51,
   "metadata": {},
   "outputs": [],
   "source": [
    "from sklearn.model_selection import train_test_split, cross_val_score, validation_curve\n",
    "crossval = cross_val_score(mlpregressor, X_test, y_test.values.ravel(), cv=5)\n",
    "crossval\n",
    "check_parameters = { 'hidden_layer_sizes': [(50,50), (100,50)], 'activation': ['sigmoid', 'relu'], 'solver': ['sgd', 'adam'], 'alpha': [0.0001, 0.05], 'learning_rate': ['constant','adaptive'], }\n"
   ]
  },
  {
   "cell_type": "markdown",
   "metadata": {},
   "source": [
    "check_parameters = {\n",
    "    'hidden_layer_sizes': [(50,50), (100,50)],\n",
    "    'activation': ['tanh', 'relu'],\n",
    "    'solver': ['sgd', 'adam'],\n",
    "    'alpha': [0.0001, 0.05],\n",
    "    'learning_rate': ['constant','adaptive'],\n",
    "}"
   ]
  },
  {
   "cell_type": "code",
   "execution_count": 52,
   "metadata": {},
   "outputs": [
    {
     "data": {
      "text/plain": [
       "GridSearchCV(cv=5,\n",
       "             estimator=MLPRegressor(alpha=0.05, hidden_layer_sizes=(150, 100),\n",
       "                                    learning_rate='adaptive', max_iter=400,\n",
       "                                    random_state=0),\n",
       "             n_jobs=-1,\n",
       "             param_grid={'activation': ['sigmoid', 'relu'],\n",
       "                         'alpha': [0.0001, 0.05],\n",
       "                         'hidden_layer_sizes': [(50, 50), (100, 50)],\n",
       "                         'learning_rate': ['constant', 'adaptive'],\n",
       "                         'solver': ['sgd', 'adam']})"
      ]
     },
     "execution_count": 52,
     "metadata": {},
     "output_type": "execute_result"
    }
   ],
   "source": [
    "gridsearchcv = GridSearchCV(mlpregressor, check_parameters, n_jobs=-1, cv=5)\n",
    "gridsearchcv.fit(X_train, y_train.values.ravel())"
   ]
  },
  {
   "cell_type": "code",
   "execution_count": 53,
   "metadata": {},
   "outputs": [
    {
     "name": "stdout",
     "output_type": "stream",
     "text": [
      "Best parameters found:\n",
      " {'activation': 'relu', 'alpha': 0.05, 'hidden_layer_sizes': (100, 50), 'learning_rate': 'constant', 'solver': 'adam'}\n"
     ]
    }
   ],
   "source": [
    "print('Best parameters found:\\n', gridsearchcv.best_params_)"
   ]
  },
  {
   "cell_type": "code",
   "execution_count": null,
   "metadata": {},
   "outputs": [],
   "source": []
  }
 ],
 "metadata": {
  "kernelspec": {
   "display_name": "Python 3",
   "language": "python",
   "name": "python3"
  },
  "language_info": {
   "codemirror_mode": {
    "name": "ipython",
    "version": 3
   },
   "file_extension": ".py",
   "mimetype": "text/x-python",
   "name": "python",
   "nbconvert_exporter": "python",
   "pygments_lexer": "ipython3",
   "version": "3.8.3"
  }
 },
 "nbformat": 4,
 "nbformat_minor": 4
}
